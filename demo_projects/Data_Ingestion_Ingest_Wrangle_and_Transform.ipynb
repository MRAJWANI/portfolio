{
  "nbformat": 4,
  "nbformat_minor": 0,
  "metadata": {
    "colab": {
      "provenance": []
    },
    "kernelspec": {
      "name": "python3",
      "display_name": "Python 3"
    },
    "language_info": {
      "name": "python"
    }
  },
  "cells": [
    {
      "cell_type": "markdown",
      "source": [
        "**Portfolio Project**\n",
        "\n",
        "Finding ingesting, wrangling and transforming data to get insights. With data tests and analysis"
      ],
      "metadata": {
        "id": "2UxFfHdTlPaO"
      }
    },
    {
      "cell_type": "markdown",
      "source": [
        "# Program Start - User Input"
      ],
      "metadata": {
        "id": "t27ptBWQ3lO3"
      }
    },
    {
      "cell_type": "code",
      "source": [
        "# Main user input for the file name\n",
        "csv = input(\"Enter file name and extention: \")"
      ],
      "metadata": {
        "colab": {
          "base_uri": "https://localhost:8080/"
        },
        "id": "A1MmMOrc3jza",
        "outputId": "e0ee3528-c757-4867-fe9c-7eb30472585c"
      },
      "execution_count": null,
      "outputs": [
        {
          "name": "stdout",
          "output_type": "stream",
          "text": [
            "Enter file name and extention: yorks_houses.csv\n"
          ]
        }
      ]
    },
    {
      "cell_type": "markdown",
      "source": [
        "# Import required libraries"
      ],
      "metadata": {
        "id": "C3xiHqVsSdSp"
      }
    },
    {
      "cell_type": "markdown",
      "metadata": {
        "id": "R3UYcVhR1A6j"
      },
      "source": [
        "Mount google drive to access the data files"
      ]
    },
    {
      "cell_type": "code",
      "metadata": {
        "colab": {
          "base_uri": "https://localhost:8080/"
        },
        "id": "-SzFjbrdFHj_",
        "outputId": "75a5893b-f0c4-4bbb-b27f-c43d4ac39ae3"
      },
      "source": [
        "# importing and mounting drive\n",
        "from google.colab import drive\n",
        "drive.mount('/content/drive/')"
      ],
      "execution_count": null,
      "outputs": [
        {
          "output_type": "stream",
          "name": "stdout",
          "text": [
            "Drive already mounted at /content/drive/; to attempt to forcibly remount, call drive.mount(\"/content/drive/\", force_remount=True).\n"
          ]
        }
      ]
    },
    {
      "cell_type": "markdown",
      "metadata": {
        "id": "HG3k-QKj1FsL"
      },
      "source": [
        "Install the libraries in google drive (only the less common ones, many are pre loaded)\n"
      ]
    },
    {
      "cell_type": "code",
      "metadata": {
        "colab": {
          "base_uri": "https://localhost:8080/"
        },
        "id": "lD74NviDXQY8",
        "outputId": "9f0d4483-8efd-4cba-925c-a505e74d812d"
      },
      "source": [
        "pip install python-docx"
      ],
      "execution_count": null,
      "outputs": [
        {
          "output_type": "stream",
          "name": "stdout",
          "text": [
            "Requirement already satisfied: python-docx in /usr/local/lib/python3.7/dist-packages (0.8.11)\n",
            "Requirement already satisfied: lxml>=2.3.2 in /usr/local/lib/python3.7/dist-packages (from python-docx) (4.2.6)\n"
          ]
        }
      ]
    },
    {
      "cell_type": "markdown",
      "metadata": {
        "id": "oY1us-Dw1Nnc"
      },
      "source": [
        "Import libraries"
      ]
    },
    {
      "cell_type": "code",
      "metadata": {
        "id": "2dGRDpAnLm4h"
      },
      "source": [
        "# importing verious libaries used in the program\n",
        "import pandas as pd\n",
        "from docx import Document\n",
        "import docx\n",
        "import seaborn as sns\n",
        "import matplotlib.pyplot as plt\n",
        "from pandas.api.types import is_string_dtype\n",
        "from pandas.api.types import is_numeric_dtype"
      ],
      "execution_count": null,
      "outputs": []
    },
    {
      "cell_type": "markdown",
      "source": [
        "# Import and Format data class and functions"
      ],
      "metadata": {
        "id": "HKwDi7wQyTby"
      }
    },
    {
      "cell_type": "code",
      "source": [
        "#Class to import, format and test the csv. This class can also be imported as a module from a .py\n",
        "class importDoc:\n",
        "  #create __init__() method for the ImportDoc class\n",
        "  def __init__(self, file):\n",
        "    self.file = file\n",
        "\n",
        "  #import dataframe from drive\n",
        "  def dataImport(self, file):\n",
        "    df = pd.read_csv('drive/My Drive/datasets/{}'.format(file))\n",
        "    return df\n",
        "\n",
        "  def format(self,df,propertyType,newBuild,duration):\n",
        "    #get year and month from date using pandas' DateTimeIndex and create new columns for the data\n",
        "    df['Year'] = pd.DatetimeIndex(df['Date']).year\n",
        "    df['Month'] = pd.DatetimeIndex(df['Date']).month\n",
        "\n",
        "    #assigning appropriate names to property type and new build\n",
        "    df = df.replace({'Property Type': propertyType})\n",
        "    df = df.replace({'New': newBuild})\n",
        "    df = df.replace({'Duration': duration})\n",
        "    return df\n",
        "\n",
        "  #Test 1 to check number of counties in file\n",
        "  def countyTest(self,df):\n",
        "    print('Test 1: data should only contain 1 county')\n",
        "    if len(df['County'].unique()) == 1:\n",
        "      print('Pass: number of counties = 1')\n",
        "    else:\n",
        "      print('Fail: number of counties = ' + str(len(df['County'].unique())))\n",
        "    return\n",
        "\n",
        "  #Test 2 to check number of unique entries in file\n",
        "  def entriesTest(self,df):\n",
        "    print('Test 2: entries should be unique')\n",
        "    if len(df) == df['TUI'].nunique():\n",
        "      print('Pass: correct number of unique entries')\n",
        "    else:\n",
        "      print('Fail: duplicate entries found, check data')\n",
        "    return\n",
        "\n",
        "  #Test 3 to check if amount colum only contains numbers\n",
        "  def amountTest(self,df):\n",
        "    print('Test 3: Amount column only contains numbers?')\n",
        "    if is_numeric_dtype(df['Price']) !=True:\n",
        "      print('Fail: Amount column countains non numeric values')\n",
        "    else:\n",
        "      print('Pass: Amount column only contains numbers')\n",
        "    return\n",
        "\n"
      ],
      "metadata": {
        "id": "raeuhAs9yTJa"
      },
      "execution_count": null,
      "outputs": []
    },
    {
      "cell_type": "markdown",
      "source": [
        "# Data Analysis class and functions"
      ],
      "metadata": {
        "id": "eBmvYuyPXJCG"
      }
    },
    {
      "cell_type": "code",
      "source": [
        "# Class to extract key data from the data frame.\n",
        "class dataAnalysis:\n",
        "  def __init__(self,df):\n",
        "    self.df = df\n",
        "    self.max = 0\n",
        "    self.min = 0\n",
        "    self.pre = 0\n",
        "    self.noOfYrs = 0\n",
        "    self.cntyNm = ''\n",
        "    self.noSold = 0\n",
        "    self.district = 0\n",
        "\n",
        "\n",
        "  # Max year function\n",
        "  def maxYear(self):\n",
        "    self.max = int(self.df['Year'].max())\n",
        "    print('The max year is ' + str(self.max))\n",
        "    return self.max\n",
        "\n",
        "  # Min year function and test 4 to test if data only contains one year\n",
        "  def minYear(self):\n",
        "    if self.df['Year'].min() == self.max:\n",
        "      self.min = self.max\n",
        "      print('Data only contains one year, as such the min year is set as ' + str(self.min))\n",
        "    else:\n",
        "      self.min = int(self.df['Year'].min())\n",
        "      print('The min year is ' + str(self.min))\n",
        "    return self.min\n",
        "\n",
        "  # Previous year function and test 5 to test if data only contains one year\n",
        "  def previousYear(self):\n",
        "    if self.max != self.min:\n",
        "      self.pre = int(self.max-1)\n",
        "      print('The previous year is ' + str(self.pre))\n",
        "    else:\n",
        "      self.pre = self.max\n",
        "      print ('Data only contains one year, as such the previuos year is set as ' + str(self.pre))\n",
        "    return self.pre\n",
        "\n",
        "  # Number of years of data and test 6 to test if the number of years is one\n",
        "  def noOfYears(self):\n",
        "    if self.max == self.min:\n",
        "      self.noOfYrs = 1\n",
        "      print('Data only contains records from ' + str(self.max))\n",
        "    else:\n",
        "      self.noOfYrs = int(len(self.df['Year'].unique()))\n",
        "      print('There is ' + str(self.noOfYrs) + ' years of records in the data, from ' + str(self.min) + ' and ' + str(self.max))\n",
        "    return self.noOfYrs\n",
        "\n",
        "  # Name of County from data\n",
        "  def countyName(self):\n",
        "    self.cntyNm = str.title(self.df['County'].unique()[0])\n",
        "    print('The name if the county is ' + self.cntyNm)\n",
        "    return self.cntyNm\n",
        "\n",
        "  # Mean amount for given year\n",
        "  def yearlyMean(self,year):\n",
        "    yrlydf =self.df.groupby(['Year'],as_index=False)['Price'].mean()\n",
        "    amt = yrlydf.loc[yrlydf['Year']== year]\n",
        "    return round(float(amt['Price']),2)\n",
        "\n",
        "  # Get number of houses sold - number of rows in df\n",
        "  def noOfHsSld(self):\n",
        "    self.noSold = len(self.df.index)\n",
        "    return self.noSold\n",
        "\n",
        "  # Workout the percent difference between 2 numbers and return string with result\n",
        "  def amountMvmt(self,amountA, amountB):\n",
        "    mvmt = amountA - amountB\n",
        "    perMvmt = round(mvmt/amountB*100,2)\n",
        "    aVsBMvmt = ''\n",
        "    if mvmt == 0:\n",
        "      aVsBMvmt = \"the same\"\n",
        "    elif mvmt < 0:\n",
        "      aVsBMvmt = 'down ' + str(perMvmt) + '%'\n",
        "    else:\n",
        "      aVsBMvmt = 'up ' + str(perMvmt) + '%'\n",
        "    return aVsBMvmt\n",
        "\n",
        "  # Workout highest amount in a year\n",
        "  def highestAmt(self,year):\n",
        "    yrlydf =self.df.groupby(['Year'],as_index=False)['Price'].max()\n",
        "    amt = yrlydf.loc[yrlydf['Year']== year]\n",
        "    return round(float(amt['Price']),2)\n",
        "\n",
        "  # Work out lowest amount in a year\n",
        "  def LowestAmt(self,year):\n",
        "    yrlydf =self.df.groupby(['Year'],as_index=False)['Price'].min()\n",
        "    amt = yrlydf.loc[yrlydf['Year']== year]\n",
        "    return round(float(amt['Price']),2)\n",
        "\n",
        "  #Workout number of districts in data\n",
        "  def noOfDis(self):\n",
        "    self.district = self.df['District'].nunique()\n",
        "    print('There are ' + str(self.district) + ' districts')\n",
        "    return self.district\n",
        "\n",
        "\n",
        "\n"
      ],
      "metadata": {
        "id": "7UgIEJvd614-"
      },
      "execution_count": null,
      "outputs": []
    },
    {
      "cell_type": "markdown",
      "source": [
        "# Column Renaming Data"
      ],
      "metadata": {
        "id": "vTXd6G3q9IZU"
      }
    },
    {
      "cell_type": "code",
      "source": [
        "# Column renaming dictionaries\n",
        "propertyType = {'D': 'Detached', 'S': 'Semi-Detached', 'T': 'Terraced',  'F': 'Flats/Maisonettes', 'O': 'Other'}\n",
        "newBuild = {'Y': 'Newly Built Property', 'N': 'Established Residential Building'}\n",
        "duration = {'F': 'Freehold', 'L': 'Leasehold' , 'U': 'Other'}"
      ],
      "metadata": {
        "id": "rzPl3VQW9OVP"
      },
      "execution_count": null,
      "outputs": []
    },
    {
      "cell_type": "markdown",
      "source": [
        "# Importing Data from file and testing"
      ],
      "metadata": {
        "id": "MFs2jLNR55oy"
      }
    },
    {
      "cell_type": "code",
      "source": [
        "# initiate the importDoc class from user input\n",
        "id = importDoc(csv)\n",
        "\n",
        "df = id.dataImport(id.file)\n",
        "\n",
        "df = id.format(df, propertyType, newBuild, duration)\n",
        "\n",
        "#Test 1, 2 and 3\n",
        "id.countyTest(df)\n",
        "id.entriesTest(df)\n",
        "id.amountTest(df)\n"
      ],
      "metadata": {
        "colab": {
          "base_uri": "https://localhost:8080/"
        },
        "id": "N0ley-o14O7L",
        "outputId": "5d2f79cb-edad-4434-b147-7f9732eb8ea5"
      },
      "execution_count": null,
      "outputs": [
        {
          "output_type": "stream",
          "name": "stdout",
          "text": [
            "Test 1: data should only contain 1 county\n",
            "Pass: number of counties = 1\n",
            "Test 2: entries should be unique\n",
            "Pass: correct number of unique entries\n",
            "Test 3: Amount column only contains numbers?\n",
            "Pass: Amount column only contains numbers\n"
          ]
        }
      ]
    },
    {
      "cell_type": "markdown",
      "metadata": {
        "id": "7eUa-9fc1X_q"
      },
      "source": [
        "# Data Analysis Class Initiation and Calculations"
      ]
    },
    {
      "cell_type": "code",
      "source": [
        "# Initilising the dataAnalysis class and calling its functions to work out dates, number of years, county and number of houses sold\n",
        "analysis = dataAnalysis(df)\n",
        "maxYr = analysis.maxYear()\n",
        "minYr = analysis.minYear()\n",
        "preYr = analysis.previousYear()\n",
        "noOfYr = analysis.noOfYears()\n",
        "countyName = analysis.countyName()\n",
        "houseSold = analysis.noOfHsSld()\n",
        "districtCount = analysis.noOfDis()\n",
        "\n",
        "# Converting dates, number of years, and number of houses sold to string\n",
        "strMaxYr = str(maxYr)\n",
        "strMinYr = str(minYr)\n",
        "strPreYr = str(preYr)\n",
        "strNoOnYr = str(noOfYr)\n",
        "strHouseSold = '{:,}'.format(houseSold)\n",
        "strdistrictCount = str(districtCount)\n",
        "\n",
        "\n",
        "\n",
        "# Calculating mean price for a given year\n",
        "maxYrAm = analysis.yearlyMean(maxYr)\n",
        "minYrAm = analysis.yearlyMean(minYr)\n",
        "preYrAm = analysis.yearlyMean(preYr)\n",
        "\n",
        "# Max and min price by year\n",
        "maxYrHigh = analysis.highestAmt(maxYr)\n",
        "maxYrLow = analysis.LowestAmt(maxYr)\n",
        "minYrHigh = analysis.highestAmt(minYr)\n",
        "minYrLow = analysis.LowestAmt(minYr)\n",
        "preYrHigh = analysis.highestAmt(preYr)\n",
        "preYrLow = analysis.LowestAmt(preYr)\n",
        "\n",
        "# Formatting mean, min and max price to be more readable\n",
        "formattedMaxYrAm= '£{:,.2f}'.format(maxYrAm)\n",
        "formattedMinYrAm= '£{:,.2f}'.format(minYrAm)\n",
        "formattedPreYrAm= '£{:,.2f}'.format(preYrAm)\n",
        "\n",
        "formattedmaxYrHigh= '£{:,.2f}'.format(maxYrHigh)\n",
        "formattedmaxYrLow= '£{:,.2f}'.format(maxYrLow)\n",
        "\n",
        "formattedminYrHigh= '£{:,.2f}'.format(minYrHigh)\n",
        "formattedminYrLow= '£{:,.2f}'.format(minYrLow)\n",
        "\n",
        "formattedpreYrHigh= '£{:,.2f}'.format(preYrHigh)\n",
        "formattedpreYrLow= '£{:,.2f}'.format(preYrLow)"
      ],
      "metadata": {
        "id": "XsWatgKvXqFv",
        "colab": {
          "base_uri": "https://localhost:8080/"
        },
        "outputId": "42fafec4-51bc-441e-89d7-1455ab33e219"
      },
      "execution_count": null,
      "outputs": [
        {
          "output_type": "stream",
          "name": "stdout",
          "text": [
            "The max year is 2021\n",
            "The min year is 1995\n",
            "The previous year is 2020\n",
            "There is 27 years of records in the data, from 1995 and 2021\n",
            "The name if the county is North Yorkshire\n",
            "There are 7 districts\n"
          ]
        }
      ]
    },
    {
      "cell_type": "markdown",
      "source": [
        "Calculating the price difference in minYr vs preYr and maxYr vs minYr and preYr"
      ],
      "metadata": {
        "id": "SE0w5sCGmyci"
      }
    },
    {
      "cell_type": "code",
      "source": [
        "# calculating the price difference using amountMvmt class funtion\n",
        "minVsPre = analysis.amountMvmt(preYrAm,minYrAm)\n",
        "maxVsPre = analysis.amountMvmt(maxYrAm,preYrAm)\n",
        "maxVsMin = analysis.amountMvmt(maxYrAm,minYrAm)\n",
        "\n"
      ],
      "metadata": {
        "id": "OmV8XaranCnc"
      },
      "execution_count": null,
      "outputs": []
    },
    {
      "cell_type": "code",
      "source": [
        "# Grouping df by different criteria to use as data for tables and charts\n",
        "propTypData = df.groupby(\"Property Type\", as_index = False)['Price'].mean().round(2)\n",
        "newBuildData = df.groupby(\"New\", as_index = False)['Price'].mean().round(2)\n",
        "durationData = df.groupby(\"Duration\", as_index = False)['Price'].mean().round(2)\n",
        "districtData = df.groupby(\"District\", as_index = False)['Price'].mean().round(2)\n",
        "\n",
        "dataList = [propTypData, newBuildData, durationData]\n"
      ],
      "metadata": {
        "id": "bUNzlLpG8McV"
      },
      "execution_count": null,
      "outputs": []
    },
    {
      "cell_type": "markdown",
      "source": [
        "# Document Text Creation"
      ],
      "metadata": {
        "id": "ezW0XybSV9CQ"
      }
    },
    {
      "cell_type": "markdown",
      "source": [
        "Page 1 Text"
      ],
      "metadata": {
        "id": "7Rqp7WTv5H_p"
      }
    },
    {
      "cell_type": "code",
      "source": [
        "# Creating heading and text used in the first page.\n",
        "docHead = 'Houses sold in ' + countyName + ' between ' + strMinYr + ' and ' + strMaxYr\n",
        "para1 = 'In the ' + strNoOnYr + ' years between ' + strMinYr + ' and ' + strMaxYr + ', a total of ' + strHouseSold + ' houses have been sold in ' + countyName + '.'\n",
        "\n",
        "priceHead = 'Average Price Breakdown by Year'\n",
        "minYrPrice = 'The average price for a house sold in ' + strMinYr + ' is ' + formattedMinYrAm\n",
        "preYrPrice = 'The average price for a house sold in ' + strPreYr + ' is ' + formattedPreYrAm + ' which is ' + minVsPre + ' vs ' + strMinYr\n",
        "maxYrPrice = 'The average price for a house sold in ' + strMaxYr + ' is ' + formattedMaxYrAm + ' which is ' + maxVsMin + ' vs ' + strMinYr + ' and ' + maxVsPre + ' vs ' + strPreYr\n",
        "\n",
        "minMaxHead = 'Most Expensive and Cheapest House sold by Year'\n",
        "minYrMinMaxPrice = 'The most expensive house sold in ' + strMinYr + ' is ' + formattedminYrHigh + ' and the cheapest house is ' + formattedminYrLow\n",
        "preYrMinMaxPrice = 'The most expensive house sold in ' + strPreYr + ' is ' + formattedpreYrHigh + ' and the cheapest house is ' + formattedpreYrLow\n",
        "maxYrMinMaxPrice = 'The most expensive house sold in ' + strMaxYr + ' is ' + formattedmaxYrHigh + ' and the cheapest house is ' + formattedmaxYrLow\n",
        "\n",
        "# Creating list for average, min and max price data\n",
        "bulletListMean = [minYrPrice, preYrPrice, maxYrPrice]\n",
        "bulletlistMinMax = [minYrMinMaxPrice, preYrMinMaxPrice, maxYrMinMaxPrice]"
      ],
      "metadata": {
        "id": "N4qrE5q7WDeJ"
      },
      "execution_count": null,
      "outputs": []
    },
    {
      "cell_type": "markdown",
      "source": [
        "Page 2 Text"
      ],
      "metadata": {
        "id": "wkpMed4s5hZF"
      }
    },
    {
      "cell_type": "code",
      "source": [
        "# Creating text for property type table\n",
        "propTypHead = 'Breakdown by Property Type'\n",
        "propTypText = 'The below table shows the average price each property type sold for in ' + strNoOnYr + ' years, from ' + strMinYr + ' to ' + strMaxYr + ' in ' + countyName + ':'\n",
        "\n",
        "# Creating text for new build table\n",
        "newBuildHead = 'Breakdown by New Build'\n",
        "newBuildText = 'The below table shows the average price each established vs new build sold for in ' + strNoOnYr + ' years, from ' + strMinYr + ' to ' + strMaxYr + ' in ' + countyName + ':'\n",
        "\n",
        "# Creating text for property duration table\n",
        "durationHead = 'Breakdown by Duration'\n",
        "durationText = 'The below table shows the average price each freehold vs leasehold sold for in ' + strNoOnYr + ' years, from ' + strMinYr + ' to ' + strMaxYr + ' in ' + countyName + ':'\n",
        "\n",
        "# Creating table column headings\n",
        "propTypeTbl = 'Property Type'\n",
        "newBuidTbl = 'New / Existing Build'\n",
        "durationTabl = 'Duration Type'\n",
        "\n",
        "# Lists of heading, text and teable heading for each of the 3 types\n",
        "headList = [propTypHead, newBuildHead, durationHead]\n",
        "textList = [propTypText, newBuildText, durationText]\n",
        "tableHead = [propTypeTbl, newBuidTbl, durationTabl]"
      ],
      "metadata": {
        "id": "sXwFkVEw5i6B"
      },
      "execution_count": null,
      "outputs": []
    },
    {
      "cell_type": "markdown",
      "source": [
        "Page 3 Text"
      ],
      "metadata": {
        "id": "S0SINA7pmimj"
      }
    },
    {
      "cell_type": "code",
      "source": [
        "# Creating text to be used in the graph.\n",
        "graphHead = 'Average Price by District'\n",
        "graphText = 'There are ' + strdistrictCount + ' districts in ' + countyName + '. The graph below shows the average price houses have sold for in each district in the ' + strNoOnYr + ' years between ' + strMinYr + ' and ' + strMaxYr + ':'\n"
      ],
      "metadata": {
        "id": "03Y7UTOXmkiV"
      },
      "execution_count": null,
      "outputs": []
    },
    {
      "cell_type": "markdown",
      "metadata": {
        "id": "1HmYJPK41akj"
      },
      "source": [
        "# Document Creation and Exporting"
      ]
    },
    {
      "cell_type": "code",
      "source": [
        "#Creating a document using docx\n",
        "document = Document()"
      ],
      "metadata": {
        "id": "t9X_AZrr1Jwg"
      },
      "execution_count": null,
      "outputs": []
    },
    {
      "cell_type": "markdown",
      "source": [
        "Document Page 1 Creation"
      ],
      "metadata": {
        "id": "rK45ZYV9xgvZ"
      }
    },
    {
      "cell_type": "code",
      "metadata": {
        "id": "59eV14cjM6QC",
        "colab": {
          "base_uri": "https://localhost:8080/"
        },
        "outputId": "ca0882e3-59ff-4e05-9909-b9490581c2ae"
      },
      "source": [
        "# Adding heading, paragraph 1 and a bullet list to the first page\n",
        "document.add_heading(docHead, 0)\n",
        "document.add_paragraph(para1)\n",
        "document.add_heading(priceHead,1)\n",
        "\n",
        "# for loop to iterrate through bullteListMean and create a new line for each entry\n",
        "for i in bulletListMean:\n",
        "  document.add_paragraph(i, style='List Bullet')\n",
        "\n",
        "#Adding space after list\n",
        "document.add_paragraph()\n",
        "\n",
        "\n",
        "document.add_heading(minMaxHead,1)\n",
        "\n",
        "# for loop to iterrate through bullteListMinMax and create a new line for each entry\n",
        "for i in bulletlistMinMax:\n",
        "  document.add_paragraph(i, style='List Bullet')\n",
        "\n",
        "# Page break to go on to the next page\n",
        "document.add_page_break()"
      ],
      "execution_count": null,
      "outputs": [
        {
          "output_type": "execute_result",
          "data": {
            "text/plain": [
              "<docx.text.paragraph.Paragraph at 0x7f5ff0911e50>"
            ]
          },
          "metadata": {},
          "execution_count": 16
        }
      ]
    },
    {
      "cell_type": "markdown",
      "source": [
        "Document Page 2 Creation"
      ],
      "metadata": {
        "id": "Mw_RAYkx7MQK"
      }
    },
    {
      "cell_type": "code",
      "metadata": {
        "id": "Ogws2eU6YQnE",
        "colab": {
          "base_uri": "https://localhost:8080/"
        },
        "outputId": "114989d9-dbbd-4fa0-83c5-af6c63c32414"
      },
      "source": [
        "# For loop to interate through data, head and text lists using zip function\n",
        "for data, head, text, tabHead in zip (dataList, headList, textList, tableHead):\n",
        "\n",
        "  #Heading and text for each table\n",
        "  document.add_heading(head,1)\n",
        "  document.add_paragraph(text)\n",
        "\n",
        "  # Create empty table with 1 extra row then the amount of rows in the data and same amount of columns\n",
        "  numOfRows = data.shape[0] +1\n",
        "  numOfCols = data.shape[1]\n",
        "  table = document.add_table(rows=numOfRows,cols=numOfCols, style= 'Colorful List')\n",
        "\n",
        "  # Column headings in row 1 of table\n",
        "  row = table.rows[0].cells\n",
        "  row[0].text = tabHead\n",
        "  row[1].text = 'Average Price'\n",
        "\n",
        "  # Interate through the number of rows in data and fill cells with data. The cell number in ofset by 1 to account for the first row\n",
        "  for i in range(data.shape[0]):\n",
        "    for j, cell in enumerate(table.rows[i+1].cells):\n",
        "      cell.text = str(data.values[i][j])\n",
        "\n",
        "  #Adding space after table\n",
        "  document.add_paragraph()\n",
        "\n",
        "\n",
        "# Page break to go on to the next page\n",
        "document.add_page_break()\n",
        "\n",
        "\n",
        "\n"
      ],
      "execution_count": null,
      "outputs": [
        {
          "output_type": "execute_result",
          "data": {
            "text/plain": [
              "<docx.text.paragraph.Paragraph at 0x7f5fef618c50>"
            ]
          },
          "metadata": {},
          "execution_count": 17
        }
      ]
    },
    {
      "cell_type": "markdown",
      "source": [
        "Document Page 3 Creation"
      ],
      "metadata": {
        "id": "qB7VCidKo45F"
      }
    },
    {
      "cell_type": "code",
      "metadata": {
        "id": "SCfcwA1grKUN",
        "colab": {
          "base_uri": "https://localhost:8080/",
          "height": 370
        },
        "outputId": "c4b23e0e-2187-4f76-d122-9636879f34b9"
      },
      "source": [
        "# Graph page heading and paragraph\n",
        "document.add_heading(graphHead,1)\n",
        "document.add_paragraph(graphText)\n",
        "\n",
        "# Creating graph using districtData\n",
        "sns.set_theme(style=\"whitegrid\")\n",
        "graph = sns.barplot(x = 'District', y='Price', data = districtData)\n",
        "\n",
        "# Rotating the X axis labels\n",
        "graph.set_xticklabels(graph.get_xticklabels(),rotation = 90)\n",
        "\n",
        "# Saving the graph\n",
        "plt.savefig('drive/My Drive/datasets/{}.png'.format(countyName), bbox_inches='tight')"
      ],
      "execution_count": null,
      "outputs": [
        {
          "output_type": "display_data",
          "data": {
            "image/png": "[encoded data removed]",
            "text/plain": [
              "<Figure size 432x288 with 1 Axes>"
            ]
          },
          "metadata": {}
        }
      ]
    },
    {
      "cell_type": "code",
      "metadata": {
        "id": "uSPrt6X1r3Wu",
        "colab": {
          "base_uri": "https://localhost:8080/"
        },
        "outputId": "69fb718d-723a-4d21-a004-24058d95dacc"
      },
      "source": [
        "# Add graph to document\n",
        "document.add_picture('drive/My Drive/datasets/{}.png'.format(countyName))"
      ],
      "execution_count": null,
      "outputs": [
        {
          "output_type": "execute_result",
          "data": {
            "text/plain": [
              "<docx.shape.InlineShape at 0x7f5fef5652d0>"
            ]
          },
          "metadata": {},
          "execution_count": 19
        }
      ]
    },
    {
      "cell_type": "code",
      "source": [
        "# Save complete document\n",
        "document.save('drive/My Drive/datasets/{}.docx'.format(countyName))"
      ],
      "metadata": {
        "id": "uJwb-T_1vsIs"
      },
      "execution_count": null,
      "outputs": []
    },
    {
      "cell_type": "markdown",
      "source": [
        "**The End**"
      ],
      "metadata": {
        "id": "doqlQGUFu1ja"
      }
    }
  ]
}
